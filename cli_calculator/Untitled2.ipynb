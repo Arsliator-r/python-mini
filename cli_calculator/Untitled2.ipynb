{
 "cells": [
  {
   "cell_type": "code",
   "execution_count": 2,
   "id": "f3089b0d-a806-42f0-a7c9-f570b72eac10",
   "metadata": {},
   "outputs": [
    {
     "name": "stdout",
     "output_type": "stream",
     "text": [
      "___________________________________________CLI Calculator___________________________________________\n",
      "THIS IS CALCULATOR UTILIZES THE LOOP STRUCTURE SO IN ORDER TO EXIT THE CALCULATOR PRESS 'Q'\n",
      "\n"
     ]
    },
    {
     "name": "stdout",
     "output_type": "stream",
     "text": [
      "Enter first number :  2\n",
      "Enter second number :  3\n",
      " Enter the operation you wanna perform\n",
      " Press 1 for (+), Press 2 for (-), Press 3 for (*), Press 4 for (/)\n",
      " 4\n"
     ]
    },
    {
     "name": "stdout",
     "output_type": "stream",
     "text": [
      "                                   2.0 / 3.0 = 0.6666666666666666\n",
      "                                  \n"
     ]
    },
    {
     "name": "stdout",
     "output_type": "stream",
     "text": [
      "Enter first number :  2\n",
      "Enter second number :  0\n",
      " Enter the operation you wanna perform\n",
      " Press 1 for (+), Press 2 for (-), Press 3 for (*), Press 4 for (/)\n",
      " 4\n"
     ]
    },
    {
     "name": "stdout",
     "output_type": "stream",
     "text": [
      "Cant divide by 0 ... Try again with correct numeral\n"
     ]
    },
    {
     "name": "stdout",
     "output_type": "stream",
     "text": [
      "Enter first number :  2\n",
      "Enter second number :  3\n",
      " Enter the operation you wanna perform\n",
      " Press 1 for (+), Press 2 for (-), Press 3 for (*), Press 4 for (/)\n",
      " q\n"
     ]
    },
    {
     "name": "stdout",
     "output_type": "stream",
     "text": [
      "... Closed\n"
     ]
    }
   ],
   "source": [
    "print('CLI Calculator'.center(100, '_'))\n",
    "print('THIS IS CALCULATOR UTILIZES THE LOOP STRUCTURE SO IN ORDER TO EXIT THE CALCULATOR PRESS \\'Q\\'\\n')\n",
    "flag1 = True\n",
    "flag2 = True\n",
    "\n",
    "while flag1:\n",
    "    flag2 = True\n",
    "    while flag2:\n",
    "        try:\n",
    "            x = float(input('Enter first number : '))\n",
    "            y = float(input('Enter second number : '))\n",
    "            flag2 = False\n",
    "    \n",
    "        except:\n",
    "            print('Invalid Entry... This calculator only accepts numerical value')\n",
    "            \n",
    "    operation = input(' Enter the operation you wanna perform\\n Press 1 for (+), Press 2 for (-), Press 3 for (*), Press 4 for (/)\\n')\n",
    "    if operation == '1':\n",
    "        add = float(x+y)\n",
    "        print(f' {float(x)} + {float(y)} = {add}\\n'.center(100))\n",
    "    \n",
    "    elif operation == '2':\n",
    "        dif = float(x-y)\n",
    "        print(f' {float(x)} - {float(y)} = {dif}\\n'.center(100))\n",
    "\n",
    "    elif operation == '3':\n",
    "        pro = float(x*y)\n",
    "        print(f' {float(x)} * {float(y)} = {pro}\\n'.center(100))\n",
    "\n",
    "    elif operation == '4' and y != 0:\n",
    "        div = float(x/y)\n",
    "        print(f' {float(x)} / {float(y)} = {div}\\n'.center(100))\n",
    "    elif operation == 'q' or operation == 'Q':\n",
    "        print('... Closed')\n",
    "        break\n",
    "\n",
    "    else:\n",
    "        if y == 0:\n",
    "            print('Cant divide by 0 ... Try again with correct numeral\\n')\n",
    "\n",
    "        else:\n",
    "            print('Invalid Choice... Try again with correct option\\n')"
   ]
  },
  {
   "cell_type": "code",
   "execution_count": null,
   "id": "f2063e05-aba1-4c65-bc0c-e52596231bfb",
   "metadata": {},
   "outputs": [],
   "source": []
  },
  {
   "cell_type": "code",
   "execution_count": 2,
   "id": "10ca1d7b-e833-4d08-adb2-d422660ac64e",
   "metadata": {},
   "outputs": [
    {
     "name": "stdout",
     "output_type": "stream",
     "text": [
      "s\n"
     ]
    }
   ],
   "source": [
    "print('s')"
   ]
  },
  {
   "cell_type": "code",
   "execution_count": null,
   "id": "5edd3c57-d7c8-4bf2-9c65-ad30aae10258",
   "metadata": {},
   "outputs": [],
   "source": []
  }
 ],
 "metadata": {
  "kernelspec": {
   "display_name": "Python 3 (ipykernel)",
   "language": "python",
   "name": "python3"
  },
  "language_info": {
   "codemirror_mode": {
    "name": "ipython",
    "version": 3
   },
   "file_extension": ".py",
   "mimetype": "text/x-python",
   "name": "python",
   "nbconvert_exporter": "python",
   "pygments_lexer": "ipython3",
   "version": "3.12.7"
  }
 },
 "nbformat": 4,
 "nbformat_minor": 5
}
